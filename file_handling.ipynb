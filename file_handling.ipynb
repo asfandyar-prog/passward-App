{
  "nbformat": 4,
  "nbformat_minor": 0,
  "metadata": {
    "colab": {
      "provenance": [],
      "authorship_tag": "ABX9TyOHczaaVIZWBx1wiGJbO0mk",
      "include_colab_link": true
    },
    "kernelspec": {
      "name": "python3",
      "display_name": "Python 3"
    },
    "language_info": {
      "name": "python"
    }
  },
  "cells": [
    {
      "cell_type": "markdown",
      "metadata": {
        "id": "view-in-github",
        "colab_type": "text"
      },
      "source": [
        "<a href=\"https://colab.research.google.com/github/asfandyar-prog/passward-App/blob/master/file_handling.ipynb\" target=\"_parent\"><img src=\"https://colab.research.google.com/assets/colab-badge.svg\" alt=\"Open In Colab\"/></a>"
      ]
    },
    {
      "cell_type": "code",
      "execution_count": 1,
      "metadata": {
        "colab": {
          "base_uri": "https://localhost:8080/"
        },
        "id": "q6oWmMtb6r9A",
        "outputId": "a3ef755a-483c-4e81-fabb-47ddfc99c6b4"
      },
      "outputs": [
        {
          "output_type": "stream",
          "name": "stdout",
          "text": [
            "hello\n"
          ]
        }
      ],
      "source": [
        "print(\"hello\")"
      ]
    },
    {
      "cell_type": "code",
      "source": [
        "f=open('sample.txt','w')\n",
        "f.write(\"hello worldhtehj\")\n",
        "f.close()\n"
      ],
      "metadata": {
        "id": "BQ8JMQd166Ff"
      },
      "execution_count": 6,
      "outputs": []
    },
    {
      "cell_type": "code",
      "source": [
        "f=open(\"sample1.txt\",'w')\n",
        "f.write(\"hallow quantum \")\n",
        "f.write(\"\\n how are you !\")"
      ],
      "metadata": {
        "colab": {
          "base_uri": "https://localhost:8080/"
        },
        "id": "CcENQMh67EfD",
        "outputId": "bcb2112a-b17b-4d91-fe4c-28eaedc77cce"
      },
      "execution_count": 8,
      "outputs": [
        {
          "output_type": "execute_result",
          "data": {
            "text/plain": [
              "15"
            ]
          },
          "metadata": {},
          "execution_count": 8
        }
      ]
    },
    {
      "cell_type": "code",
      "source": [
        "\n",
        "f=open(\"sample1.txt\",'a')\n",
        "f.write(\"\\n i am good!\")"
      ],
      "metadata": {
        "colab": {
          "base_uri": "https://localhost:8080/"
        },
        "id": "768Fl8eG7z3_",
        "outputId": "3f450c30-ffc8-4a25-e748-61fa34f4f37f"
      },
      "execution_count": 13,
      "outputs": [
        {
          "output_type": "execute_result",
          "data": {
            "text/plain": [
              "12"
            ]
          },
          "metadata": {},
          "execution_count": 13
        }
      ]
    },
    {
      "cell_type": "code",
      "source": [
        "data=open(\"sample1.txt\",'r')\n",
        "while True:\n",
        "  s=data.readline()\n",
        "\n",
        "  if s=='':\n",
        "    break\n",
        "  else:\n",
        "    print(s)\n",
        "data.close()"
      ],
      "metadata": {
        "colab": {
          "base_uri": "https://localhost:8080/"
        },
        "id": "Ku6FVYLr-rD9",
        "outputId": "58398768-a2ec-4adc-e008-d25c54d8414d"
      },
      "execution_count": 4,
      "outputs": [
        {
          "output_type": "stream",
          "name": "stdout",
          "text": [
            "hallow quantum \n",
            "\n",
            " how are you !\n",
            "\n",
            " i am good!\n",
            "\n",
            " i am good!\n"
          ]
        }
      ]
    },
    {
      "cell_type": "code",
      "source": [
        "with open (\"sami.txt\",'a') as f:\n",
        "  f.write(\"sami how are you \")"
      ],
      "metadata": {
        "id": "LmuaUQhcC3by"
      },
      "execution_count": 6,
      "outputs": []
    },
    {
      "cell_type": "code",
      "source": [
        "with open('meet.txt','r') as f:\n",
        "  chunck_size=100\n",
        "  while len(f.read(chunck_size))>0:\n",
        "    print(f.read(chunck_size))\n",
        "\n",
        "    f.read(chunck_size)\n"
      ],
      "metadata": {
        "colab": {
          "base_uri": "https://localhost:8080/"
        },
        "id": "Ljs0hc5xFQvA",
        "outputId": "5f05b09b-7823-40bc-d4e3-9ec3757d114d"
      },
      "execution_count": 10,
      "outputs": [
        {
          "output_type": "stream",
          "name": "stdout",
          "text": [
            "port and time. I’ve now completed the lab portion of the quantum computing course and uploaded all J\n",
            "ecture notes — I plan to finish everything before July 30, so that by the end of this month, the ent\n",
            "rch idea I’ve been thinking about.\n",
            "The main idea is to combine quantum computing with classical AI, \n",
            "Then we combine it with classical neural networks or reinforcement learning.\n",
            "For example, we could t\n",
            "s studying software engineering) could support the classical parts.\n",
            "I’d love to hear your thoughts o\n",
            "on applying hybrid quantum-classical neural networks to financial time-series prediction—such as for\n",
            "specially for complex, noisy,\n",
            " and non-linear financial data. Using tools like Qiskit Machine Learni\n",
            " improvements have significant practical and economic implications.\n",
            "\n",
            "🎉 3. Qiskit Fall Festival 2025 \n",
            "s on quantum computing.\n",
            "I’m really excited about the idea of hosting it at Debrecen this year.\n",
            "Since\n",
            "lanning — I just wanted to know if you’d be open to supporting this initiative.”\n",
            "\n",
          y can offer i\n"
          ]
        }
      ]
    },
    {
      "cell_type": "code",
      "source": [],
      "metadata": {
        "id": "2pOha1a5HJRy"
      },
      "execution_count": null,
      "outputs": []
    },
    {
      "cell_type": "code",
      "source": [],
      "metadata": {
        "id": "ljJU9GxSNVkj"
      },
      "execution_count": null,
      "outputs": []
    },
    {
      "cell_type": "markdown",
      "source": [
        "**Serilazation and deserialization**"
      ],
      "metadata": {
        "id": "OBZIMnQ1NXix"
      }
    },
    {
      "cell_type": "code",
      "source": [],
      "metadata": {
        "id": "UlaKfq6JHhUs"
      },
      "execution_count": null,
      "outputs": []
    },
    {
      "cell_type": "markdown",
      "source": [
        "*serialization-process of converting python datatype to json fromat*"
      ],
      "metadata": {
        "id": "ybipof5xNkgD"
      }
    },
    {
      "cell_type": "code",
      "source": [],
      "metadata": {
        "id": "z3J5uKtbHg-l"
      },
      "execution_count": null,
      "outputs": []
    },
    {
      "cell_type": "markdown",
      "source": [
        "*Deserialization*-process of converstion of json to python data types"
      ],
      "metadata": {
        "id": "C3lv4MEqN1XS"
      }
    },
    {
      "cell_type": "markdown",
      "source": [
        "json is javascript on notation which is universal\n"
      ],
      "metadata": {
        "id": "V3zinL_XIg9g"
      }
    },
    {
      "cell_type": "code",
      "source": [
        "import pandas"
      ],
      "metadata": {
        "id": "U9rew2x3Il3w"
      },
      "execution_count": 11,
      "outputs": []
    },
    {
      "cell_type": "code",
      "source": [
        "class Person:\n",
        "  def __init__(self,fname,lname,age,gender):\n",
        "    self.fname=fname\n",
        "    self.lname=lname\n",
        "    self.age=age\n",
        "    self.gender=gender\n",
        "\n",
        "\n",
        "p=Person('asf','y',90,'male')\n",
        "\n",
        ""
      ],
      "metadata": {
        "id": "fxpyeznXOi0X"
      },
      "execution_count": 18,
      "outputs": []
    },
    {
      "cell_type": "code",
      "source": [
        "import json\n",
        "def show_object(p):\n",
        "  if isinstance(p,Person):\n",
        "    return \"{} {} age->{},gender->{}\".format(p.fname,p.lname,p.age,p.gender)\n",
        "with open('demo.json','w') as f:\n",
        "  json.dump(p,f,default=show_object)"
      ],
      "metadata": {
        "id": "_EUDirQTQhdS"
      },
      "execution_count": 19,
      "outputs": []
    },
    {
      "cell_type": "code",
      "source": [],
      "metadata": {
        "id": "2DkcUU7AQtEV"
      },
      "execution_count": null,
      "outputs": []
    },
    {
      "cell_type": "markdown",
      "source": [
        "**Pickle-> the process of where by a python object is hierachy is converted into a stream and converted back into an object hierarchy**"
      ],
      "metadata": {
        "id": "dhx07LXjSXQK"
      }
    },
    {
      "cell_type": "code",
      "source": [
        "\n"
      ],
      "metadata": {
        "id": "mFyF8s_cSr9P"
      },
      "execution_count": null,
      "outputs": []
    },
    {
      "cell_type": "markdown",
      "source": [
        "*ITERATION*- ITERATION IS A GENARAL TERM FOR TAKING EACH ITEM OF SOMETHING ONE AFTER THE OTHER. ANY ITEM YOU USE A LOOP , EXPLICIT OR IMPLICIT, TO GO OVER A GROUP OF ITEMS, THAT IS ITERATION."
      ],
      "metadata": {
        "id": "Frqsr7fPjoBs"
      }
    },
    {
      "cell_type": "code",
      "source": [],
      "metadata": {
        "id": "H5WGgLqIjT55"
      },
      "execution_count": null,
      "outputs": []
    },
    {
      "cell_type": "markdown",
      "source": [
        "**ITERATOR**-> AN iterator is an object that allows the programmer to traverse through a sequence of data without having to store the entire data in the memory"
      ],
      "metadata": {
        "id": "_8aV0DqajUqP"
      }
    },
    {
      "cell_type": "code",
      "source": [
        "for i in range (10):\n",
        "  print (i*2)\n",
        "import sys\n",
        "sys.getsizeof(i)"
      ],
      "metadata": {
        "colab": {
          "base_uri": "https://localhost:8080/"
        },
        "id": "FUSkJhRBkjVk",
        "outputId": "df9e62d0-c135-4946-c5ae-448d2c279bdf"
      },
      "execution_count": 4,
      "outputs": [
        {
          "output_type": "stream",
          "name": "stdout",
          "text": [
            "0\n",
            "2\n",
            "4\n",
            "6\n",
            "8\n",
            "10\n",
            "12\n",
            "14\n",
            "16\n",
            "18\n",
            "20\n",
            "22\n",
            "24\n",
            "26\n",
            "28\n",
            "30\n",
            "32\n",
            "34\n",
            "36\n",
            "38\n",
            "40\n",
            "42\n",
            "44\n",
            "46\n",
            "48\n",
            "50\n",
            "52\n",
            "54\n",
            "56\n",
            "58\n",
            "60\n",
            "62\n",
            "64\n",
            "66\n",
            "68\n",
            "70\n",
            "72\n",
            "74\n",
            "76\n",
            "78\n",
            "80\n",
            "82\n",
            "84\n",
            "86\n",
            "88\n",
            "90\n",
            "92\n",
            "94\n",
            "96\n",
            "98\n",
            "100\n",
            
          ]
        },
        {
          "output_type": "execute_result",
          "data": {
            "text/plain": [
              "28"
            ]
          },
          "metadata": {},
          "execution_count": 4
        }
      ]
    },
    {
      "cell_type": "code",
      "source": [],
      "metadata": {
        "id": "kWd8x56Nkup7"
      },
      "execution_count": null,
      "outputs": []
    },
    {
      "cell_type": "markdown",
      "source": [
        "**Iterable**- iterable is an object which one can iterate over\n",
        "\n",
        "it generates an iterator when passed to iter() method."
      ],
      "metadata": {
        "id": "DJ6QItFzmuIt"
      }
    },
    {
      "cell_type": "code",
      "source": [],
      "metadata": {
        "id": "uLyy0-YCm--7"
      },
      "execution_count": null,
      "outputs": []
    }
  ]
}
